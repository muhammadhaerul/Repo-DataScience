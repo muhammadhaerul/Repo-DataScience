{
 "cells": [
  {
   "cell_type": "code",
   "execution_count": 1,
   "id": "58f5d836",
   "metadata": {},
   "outputs": [],
   "source": [
    "import pandas as pd"
   ]
  },
  {
   "cell_type": "code",
   "execution_count": 2,
   "id": "0ce33887",
   "metadata": {},
   "outputs": [
    {
     "data": {
      "text/html": [
       "<div>\n",
       "<style scoped>\n",
       "    .dataframe tbody tr th:only-of-type {\n",
       "        vertical-align: middle;\n",
       "    }\n",
       "\n",
       "    .dataframe tbody tr th {\n",
       "        vertical-align: top;\n",
       "    }\n",
       "\n",
       "    .dataframe thead th {\n",
       "        text-align: right;\n",
       "    }\n",
       "</style>\n",
       "<table border=\"1\" class=\"dataframe\">\n",
       "  <thead>\n",
       "    <tr style=\"text-align: right;\">\n",
       "      <th></th>\n",
       "      <th>name</th>\n",
       "      <th>clan</th>\n",
       "      <th>email</th>\n",
       "    </tr>\n",
       "  </thead>\n",
       "  <tbody>\n",
       "    <tr>\n",
       "      <th>0</th>\n",
       "      <td>Ali</td>\n",
       "      <td>Sagaras</td>\n",
       "      <td>ali@sagaras.com</td>\n",
       "    </tr>\n",
       "    <tr>\n",
       "      <th>1</th>\n",
       "      <td>Raib</td>\n",
       "      <td>Bulan</td>\n",
       "      <td>raib@bulan.com</td>\n",
       "    </tr>\n",
       "    <tr>\n",
       "      <th>2</th>\n",
       "      <td>Seli</td>\n",
       "      <td>Matahari</td>\n",
       "      <td>seli@matahari.com</td>\n",
       "    </tr>\n",
       "    <tr>\n",
       "      <th>3</th>\n",
       "      <td>Ily</td>\n",
       "      <td>Matahari Minor</td>\n",
       "      <td>ily@matahariminor.com</td>\n",
       "    </tr>\n",
       "    <tr>\n",
       "      <th>4</th>\n",
       "      <td>Lumpu</td>\n",
       "      <td>Nebula</td>\n",
       "      <td>lumpu@nebula.com</td>\n",
       "    </tr>\n",
       "    <tr>\n",
       "      <th>5</th>\n",
       "      <td>Kosong</td>\n",
       "      <td>Nebula</td>\n",
       "      <td>kosong@nebula.com</td>\n",
       "    </tr>\n",
       "  </tbody>\n",
       "</table>\n",
       "</div>"
      ],
      "text/plain": [
       "     name            clan                  email\n",
       "0     Ali         Sagaras        ali@sagaras.com\n",
       "1    Raib           Bulan         raib@bulan.com\n",
       "2    Seli        Matahari      seli@matahari.com\n",
       "3     Ily  Matahari Minor  ily@matahariminor.com\n",
       "4   Lumpu          Nebula       lumpu@nebula.com\n",
       "5  Kosong          Nebula      kosong@nebula.com"
      ]
     },
     "execution_count": 2,
     "metadata": {},
     "output_type": "execute_result"
    }
   ],
   "source": [
    "df =pd.read_csv('data/people2.csv')\n",
    "df"
   ]
  },
  {
   "cell_type": "markdown",
   "id": "f7800fe8",
   "metadata": {},
   "source": [
    "## Sorting by a column"
   ]
  },
  {
   "cell_type": "code",
   "execution_count": 3,
   "id": "c8bd85de",
   "metadata": {},
   "outputs": [
    {
     "data": {
      "text/html": [
       "<div>\n",
       "<style scoped>\n",
       "    .dataframe tbody tr th:only-of-type {\n",
       "        vertical-align: middle;\n",
       "    }\n",
       "\n",
       "    .dataframe tbody tr th {\n",
       "        vertical-align: top;\n",
       "    }\n",
       "\n",
       "    .dataframe thead th {\n",
       "        text-align: right;\n",
       "    }\n",
       "</style>\n",
       "<table border=\"1\" class=\"dataframe\">\n",
       "  <thead>\n",
       "    <tr style=\"text-align: right;\">\n",
       "      <th></th>\n",
       "      <th>name</th>\n",
       "      <th>clan</th>\n",
       "      <th>email</th>\n",
       "    </tr>\n",
       "  </thead>\n",
       "  <tbody>\n",
       "    <tr>\n",
       "      <th>0</th>\n",
       "      <td>Ali</td>\n",
       "      <td>Sagaras</td>\n",
       "      <td>ali@sagaras.com</td>\n",
       "    </tr>\n",
       "    <tr>\n",
       "      <th>3</th>\n",
       "      <td>Ily</td>\n",
       "      <td>Matahari Minor</td>\n",
       "      <td>ily@matahariminor.com</td>\n",
       "    </tr>\n",
       "    <tr>\n",
       "      <th>5</th>\n",
       "      <td>Kosong</td>\n",
       "      <td>Nebula</td>\n",
       "      <td>kosong@nebula.com</td>\n",
       "    </tr>\n",
       "    <tr>\n",
       "      <th>4</th>\n",
       "      <td>Lumpu</td>\n",
       "      <td>Nebula</td>\n",
       "      <td>lumpu@nebula.com</td>\n",
       "    </tr>\n",
       "    <tr>\n",
       "      <th>1</th>\n",
       "      <td>Raib</td>\n",
       "      <td>Bulan</td>\n",
       "      <td>raib@bulan.com</td>\n",
       "    </tr>\n",
       "    <tr>\n",
       "      <th>2</th>\n",
       "      <td>Seli</td>\n",
       "      <td>Matahari</td>\n",
       "      <td>seli@matahari.com</td>\n",
       "    </tr>\n",
       "  </tbody>\n",
       "</table>\n",
       "</div>"
      ],
      "text/plain": [
       "     name            clan                  email\n",
       "0     Ali         Sagaras        ali@sagaras.com\n",
       "3     Ily  Matahari Minor  ily@matahariminor.com\n",
       "5  Kosong          Nebula      kosong@nebula.com\n",
       "4   Lumpu          Nebula       lumpu@nebula.com\n",
       "1    Raib           Bulan         raib@bulan.com\n",
       "2    Seli        Matahari      seli@matahari.com"
      ]
     },
     "execution_count": 3,
     "metadata": {},
     "output_type": "execute_result"
    }
   ],
   "source": [
    "df.sort_values(by='name') "
   ]
  },
  {
   "cell_type": "code",
   "execution_count": 10,
   "id": "5e356661",
   "metadata": {},
   "outputs": [
    {
     "data": {
      "text/html": [
       "<div>\n",
       "<style scoped>\n",
       "    .dataframe tbody tr th:only-of-type {\n",
       "        vertical-align: middle;\n",
       "    }\n",
       "\n",
       "    .dataframe tbody tr th {\n",
       "        vertical-align: top;\n",
       "    }\n",
       "\n",
       "    .dataframe thead th {\n",
       "        text-align: right;\n",
       "    }\n",
       "</style>\n",
       "<table border=\"1\" class=\"dataframe\">\n",
       "  <thead>\n",
       "    <tr style=\"text-align: right;\">\n",
       "      <th></th>\n",
       "      <th>name</th>\n",
       "      <th>clan</th>\n",
       "      <th>email</th>\n",
       "    </tr>\n",
       "  </thead>\n",
       "  <tbody>\n",
       "    <tr>\n",
       "      <th>2</th>\n",
       "      <td>Seli</td>\n",
       "      <td>Matahari</td>\n",
       "      <td>seli@matahari.com</td>\n",
       "    </tr>\n",
       "    <tr>\n",
       "      <th>1</th>\n",
       "      <td>Raib</td>\n",
       "      <td>Bulan</td>\n",
       "      <td>raib@bulan.com</td>\n",
       "    </tr>\n",
       "    <tr>\n",
       "      <th>4</th>\n",
       "      <td>Lumpu</td>\n",
       "      <td>Nebula</td>\n",
       "      <td>lumpu@nebula.com</td>\n",
       "    </tr>\n",
       "    <tr>\n",
       "      <th>5</th>\n",
       "      <td>Kosong</td>\n",
       "      <td>Nebula</td>\n",
       "      <td>kosong@nebula.com</td>\n",
       "    </tr>\n",
       "    <tr>\n",
       "      <th>3</th>\n",
       "      <td>Ily</td>\n",
       "      <td>Matahari Minor</td>\n",
       "      <td>ily@matahariminor.com</td>\n",
       "    </tr>\n",
       "    <tr>\n",
       "      <th>0</th>\n",
       "      <td>Ali</td>\n",
       "      <td>Sagaras</td>\n",
       "      <td>ali@sagaras.com</td>\n",
       "    </tr>\n",
       "  </tbody>\n",
       "</table>\n",
       "</div>"
      ],
      "text/plain": [
       "     name            clan                  email\n",
       "2    Seli        Matahari      seli@matahari.com\n",
       "1    Raib           Bulan         raib@bulan.com\n",
       "4   Lumpu          Nebula       lumpu@nebula.com\n",
       "5  Kosong          Nebula      kosong@nebula.com\n",
       "3     Ily  Matahari Minor  ily@matahariminor.com\n",
       "0     Ali         Sagaras        ali@sagaras.com"
      ]
     },
     "execution_count": 10,
     "metadata": {},
     "output_type": "execute_result"
    }
   ],
   "source": [
    "df.sort_values(by='name', ascending=False) "
   ]
  },
  {
   "cell_type": "markdown",
   "id": "69db4d57",
   "metadata": {},
   "source": [
    "## Sorting by multiple columns"
   ]
  },
  {
   "cell_type": "code",
   "execution_count": 7,
   "id": "ee499726",
   "metadata": {},
   "outputs": [
    {
     "data": {
      "text/html": [
       "<div>\n",
       "<style scoped>\n",
       "    .dataframe tbody tr th:only-of-type {\n",
       "        vertical-align: middle;\n",
       "    }\n",
       "\n",
       "    .dataframe tbody tr th {\n",
       "        vertical-align: top;\n",
       "    }\n",
       "\n",
       "    .dataframe thead th {\n",
       "        text-align: right;\n",
       "    }\n",
       "</style>\n",
       "<table border=\"1\" class=\"dataframe\">\n",
       "  <thead>\n",
       "    <tr style=\"text-align: right;\">\n",
       "      <th></th>\n",
       "      <th>name</th>\n",
       "      <th>clan</th>\n",
       "      <th>email</th>\n",
       "    </tr>\n",
       "  </thead>\n",
       "  <tbody>\n",
       "    <tr>\n",
       "      <th>2</th>\n",
       "      <td>Seli</td>\n",
       "      <td>Matahari</td>\n",
       "      <td>seli@matahari.com</td>\n",
       "    </tr>\n",
       "    <tr>\n",
       "      <th>1</th>\n",
       "      <td>Raib</td>\n",
       "      <td>Bulan</td>\n",
       "      <td>raib@bulan.com</td>\n",
       "    </tr>\n",
       "    <tr>\n",
       "      <th>4</th>\n",
       "      <td>Lumpu</td>\n",
       "      <td>Nebula</td>\n",
       "      <td>lumpu@nebula.com</td>\n",
       "    </tr>\n",
       "    <tr>\n",
       "      <th>5</th>\n",
       "      <td>Kosong</td>\n",
       "      <td>Nebula</td>\n",
       "      <td>kosong@nebula.com</td>\n",
       "    </tr>\n",
       "    <tr>\n",
       "      <th>3</th>\n",
       "      <td>Ily</td>\n",
       "      <td>Matahari Minor</td>\n",
       "      <td>ily@matahariminor.com</td>\n",
       "    </tr>\n",
       "    <tr>\n",
       "      <th>0</th>\n",
       "      <td>Ali</td>\n",
       "      <td>Sagaras</td>\n",
       "      <td>ali@sagaras.com</td>\n",
       "    </tr>\n",
       "  </tbody>\n",
       "</table>\n",
       "</div>"
      ],
      "text/plain": [
       "     name            clan                  email\n",
       "2    Seli        Matahari      seli@matahari.com\n",
       "1    Raib           Bulan         raib@bulan.com\n",
       "4   Lumpu          Nebula       lumpu@nebula.com\n",
       "5  Kosong          Nebula      kosong@nebula.com\n",
       "3     Ily  Matahari Minor  ily@matahariminor.com\n",
       "0     Ali         Sagaras        ali@sagaras.com"
      ]
     },
     "execution_count": 7,
     "metadata": {},
     "output_type": "execute_result"
    }
   ],
   "source": [
    "df.sort_values(by=['name', 'clan'], ascending=False) "
   ]
  },
  {
   "cell_type": "code",
   "execution_count": 12,
   "id": "410de248",
   "metadata": {},
   "outputs": [],
   "source": [
    "df.sort_values(by=['name', 'clan'], ascending=[True, True], inplace=True) "
   ]
  },
  {
   "cell_type": "code",
   "execution_count": 13,
   "id": "e6f4aad5",
   "metadata": {},
   "outputs": [
    {
     "data": {
      "text/html": [
       "<div>\n",
       "<style scoped>\n",
       "    .dataframe tbody tr th:only-of-type {\n",
       "        vertical-align: middle;\n",
       "    }\n",
       "\n",
       "    .dataframe tbody tr th {\n",
       "        vertical-align: top;\n",
       "    }\n",
       "\n",
       "    .dataframe thead th {\n",
       "        text-align: right;\n",
       "    }\n",
       "</style>\n",
       "<table border=\"1\" class=\"dataframe\">\n",
       "  <thead>\n",
       "    <tr style=\"text-align: right;\">\n",
       "      <th></th>\n",
       "      <th>name</th>\n",
       "      <th>clan</th>\n",
       "      <th>email</th>\n",
       "    </tr>\n",
       "  </thead>\n",
       "  <tbody>\n",
       "    <tr>\n",
       "      <th>0</th>\n",
       "      <td>Ali</td>\n",
       "      <td>Sagaras</td>\n",
       "      <td>ali@sagaras.com</td>\n",
       "    </tr>\n",
       "    <tr>\n",
       "      <th>3</th>\n",
       "      <td>Ily</td>\n",
       "      <td>Matahari Minor</td>\n",
       "      <td>ily@matahariminor.com</td>\n",
       "    </tr>\n",
       "    <tr>\n",
       "      <th>5</th>\n",
       "      <td>Kosong</td>\n",
       "      <td>Nebula</td>\n",
       "      <td>kosong@nebula.com</td>\n",
       "    </tr>\n",
       "    <tr>\n",
       "      <th>4</th>\n",
       "      <td>Lumpu</td>\n",
       "      <td>Nebula</td>\n",
       "      <td>lumpu@nebula.com</td>\n",
       "    </tr>\n",
       "    <tr>\n",
       "      <th>1</th>\n",
       "      <td>Raib</td>\n",
       "      <td>Bulan</td>\n",
       "      <td>raib@bulan.com</td>\n",
       "    </tr>\n",
       "    <tr>\n",
       "      <th>2</th>\n",
       "      <td>Seli</td>\n",
       "      <td>Matahari</td>\n",
       "      <td>seli@matahari.com</td>\n",
       "    </tr>\n",
       "  </tbody>\n",
       "</table>\n",
       "</div>"
      ],
      "text/plain": [
       "     name            clan                  email\n",
       "0     Ali         Sagaras        ali@sagaras.com\n",
       "3     Ily  Matahari Minor  ily@matahariminor.com\n",
       "5  Kosong          Nebula      kosong@nebula.com\n",
       "4   Lumpu          Nebula       lumpu@nebula.com\n",
       "1    Raib           Bulan         raib@bulan.com\n",
       "2    Seli        Matahari      seli@matahari.com"
      ]
     },
     "execution_count": 13,
     "metadata": {},
     "output_type": "execute_result"
    }
   ],
   "source": [
    "df"
   ]
  },
  {
   "cell_type": "markdown",
   "id": "615b3b13",
   "metadata": {},
   "source": [
    "## Sorting by index"
   ]
  },
  {
   "cell_type": "code",
   "execution_count": 14,
   "id": "93a8a553",
   "metadata": {},
   "outputs": [
    {
     "data": {
      "text/html": [
       "<div>\n",
       "<style scoped>\n",
       "    .dataframe tbody tr th:only-of-type {\n",
       "        vertical-align: middle;\n",
       "    }\n",
       "\n",
       "    .dataframe tbody tr th {\n",
       "        vertical-align: top;\n",
       "    }\n",
       "\n",
       "    .dataframe thead th {\n",
       "        text-align: right;\n",
       "    }\n",
       "</style>\n",
       "<table border=\"1\" class=\"dataframe\">\n",
       "  <thead>\n",
       "    <tr style=\"text-align: right;\">\n",
       "      <th></th>\n",
       "      <th>name</th>\n",
       "      <th>clan</th>\n",
       "      <th>email</th>\n",
       "    </tr>\n",
       "  </thead>\n",
       "  <tbody>\n",
       "    <tr>\n",
       "      <th>0</th>\n",
       "      <td>Ali</td>\n",
       "      <td>Sagaras</td>\n",
       "      <td>ali@sagaras.com</td>\n",
       "    </tr>\n",
       "    <tr>\n",
       "      <th>1</th>\n",
       "      <td>Raib</td>\n",
       "      <td>Bulan</td>\n",
       "      <td>raib@bulan.com</td>\n",
       "    </tr>\n",
       "    <tr>\n",
       "      <th>2</th>\n",
       "      <td>Seli</td>\n",
       "      <td>Matahari</td>\n",
       "      <td>seli@matahari.com</td>\n",
       "    </tr>\n",
       "    <tr>\n",
       "      <th>3</th>\n",
       "      <td>Ily</td>\n",
       "      <td>Matahari Minor</td>\n",
       "      <td>ily@matahariminor.com</td>\n",
       "    </tr>\n",
       "    <tr>\n",
       "      <th>4</th>\n",
       "      <td>Lumpu</td>\n",
       "      <td>Nebula</td>\n",
       "      <td>lumpu@nebula.com</td>\n",
       "    </tr>\n",
       "    <tr>\n",
       "      <th>5</th>\n",
       "      <td>Kosong</td>\n",
       "      <td>Nebula</td>\n",
       "      <td>kosong@nebula.com</td>\n",
       "    </tr>\n",
       "  </tbody>\n",
       "</table>\n",
       "</div>"
      ],
      "text/plain": [
       "     name            clan                  email\n",
       "0     Ali         Sagaras        ali@sagaras.com\n",
       "1    Raib           Bulan         raib@bulan.com\n",
       "2    Seli        Matahari      seli@matahari.com\n",
       "3     Ily  Matahari Minor  ily@matahariminor.com\n",
       "4   Lumpu          Nebula       lumpu@nebula.com\n",
       "5  Kosong          Nebula      kosong@nebula.com"
      ]
     },
     "execution_count": 14,
     "metadata": {},
     "output_type": "execute_result"
    }
   ],
   "source": [
    "df.sort_index()"
   ]
  },
  {
   "cell_type": "markdown",
   "id": "02ab2311",
   "metadata": {},
   "source": [
    "## Sorting a series"
   ]
  },
  {
   "cell_type": "code",
   "execution_count": 15,
   "id": "e4fe862d",
   "metadata": {},
   "outputs": [
    {
     "data": {
      "text/plain": [
       "1             Bulan\n",
       "2          Matahari\n",
       "3    Matahari Minor\n",
       "5            Nebula\n",
       "4            Nebula\n",
       "0           Sagaras\n",
       "Name: clan, dtype: object"
      ]
     },
     "execution_count": 15,
     "metadata": {},
     "output_type": "execute_result"
    }
   ],
   "source": [
    "df['clan'].sort_values()"
   ]
  }
 ],
 "metadata": {
  "kernelspec": {
   "display_name": "Python 3 (ipykernel)",
   "language": "python",
   "name": "python3"
  },
  "language_info": {
   "codemirror_mode": {
    "name": "ipython",
    "version": 3
   },
   "file_extension": ".py",
   "mimetype": "text/x-python",
   "name": "python",
   "nbconvert_exporter": "python",
   "pygments_lexer": "ipython3",
   "version": "3.10.6"
  }
 },
 "nbformat": 4,
 "nbformat_minor": 5
}
