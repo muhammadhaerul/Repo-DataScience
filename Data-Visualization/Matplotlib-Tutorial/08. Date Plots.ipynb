{
 "cells": [
  {
   "cell_type": "code",
   "execution_count": 3,
   "id": "8471a196",
   "metadata": {},
   "outputs": [
    {
     "data": {
      "text/plain": [
       "'3.5.3'"
      ]
     },
     "execution_count": 3,
     "metadata": {},
     "output_type": "execute_result"
    }
   ],
   "source": [
    "import pandas as pd\n",
    "\n",
    "from datetime import datetime, timedelta\n",
    "\n",
    "import matplotlib\n",
    "from matplotlib import pyplot as plt\n",
    "from matplotlib import dates as mpl_dates\n",
    "\n",
    "matplotlib.__version__"
   ]
  },
  {
   "cell_type": "markdown",
   "id": "6871c80d",
   "metadata": {},
   "source": [
    "## Plotting Time Series"
   ]
  },
  {
   "cell_type": "code",
   "execution_count": 8,
   "id": "c094bada",
   "metadata": {},
   "outputs": [],
   "source": [
    "# set style\n",
    "plt.style.use('seaborn')"
   ]
  },
  {
   "cell_type": "code",
   "execution_count": 9,
   "id": "b7b745a4",
   "metadata": {},
   "outputs": [],
   "source": [
    "# create dummy data\n",
    "\n",
    "dates = [\n",
    "    datetime(2022, 2, 1),\n",
    "    datetime(2022, 2, 2),\n",
    "    datetime(2022, 2, 3),\n",
    "    datetime(2022, 2, 4),\n",
    "    datetime(2022, 2, 5),\n",
    "    datetime(2022, 2, 6),\n",
    "    datetime(2022, 2, 7)\n",
    "]\n",
    "\n",
    "y = [0, 1, 3, 4, 6, 5, 7]\n"
   ]
  },
  {
   "cell_type": "code",
   "execution_count": 21,
   "id": "9e87ae89",
   "metadata": {},
   "outputs": [
    {
     "data": {
      "image/png": "[encoded data removed]",
      "text/plain": [
       "<Figure size 432x288 with 1 Axes>"
      ]
     },
     "metadata": {
      "needs_background": "light"
     },
     "output_type": "display_data"
    }
   ],
   "source": [
    "# create plot date\n",
    "plt.plot_date(dates, y, linestyle='solid')\n",
    "\n",
    "# auto formatting date\n",
    "plt.gcf().autofmt_xdate() # get current figure\n",
    "date_format = mpl_dates.DateFormatter('%b, %d, %Y')\n",
    "plt.gca().xaxis.set_major_formatter(date_format) # get current axis\n",
    "\n",
    "plt.tight_layout()\n",
    "plt.show()"
   ]
  },
  {
   "cell_type": "code",
   "execution_count": 24,
   "id": "2eac14ef",
   "metadata": {},
   "outputs": [
    {
     "data": {
      "text/html": [
       "<div>\n",
       "<style scoped>\n",
       "    .dataframe tbody tr th:only-of-type {\n",
       "        vertical-align: middle;\n",
       "    }\n",
       "\n",
       "    .dataframe tbody tr th {\n",
       "        vertical-align: top;\n",
       "    }\n",
       "\n",
       "    .dataframe thead th {\n",
       "        text-align: right;\n",
       "    }\n",
       "</style>\n",
       "<table border=\"1\" class=\"dataframe\">\n",
       "  <thead>\n",
       "    <tr style=\"text-align: right;\">\n",
       "      <th></th>\n",
       "      <th>Date</th>\n",
       "      <th>Open</th>\n",
       "      <th>High</th>\n",
       "      <th>Low</th>\n",
       "      <th>Close</th>\n",
       "      <th>Adj Close</th>\n",
       "      <th>Volume</th>\n",
       "    </tr>\n",
       "  </thead>\n",
       "  <tbody>\n",
       "    <tr>\n",
       "      <th>0</th>\n",
       "      <td>2019-05-18</td>\n",
       "      <td>7266.080078</td>\n",
       "      <td>8281.660156</td>\n",
       "      <td>7257.259766</td>\n",
       "      <td>8193.139648</td>\n",
       "      <td>8193.139648</td>\n",
       "      <td>723011166</td>\n",
       "    </tr>\n",
       "    <tr>\n",
       "      <th>1</th>\n",
       "      <td>2019-05-19</td>\n",
       "      <td>8193.139648</td>\n",
       "      <td>8193.139648</td>\n",
       "      <td>7591.850098</td>\n",
       "      <td>7998.290039</td>\n",
       "      <td>7998.290039</td>\n",
       "      <td>637617163</td>\n",
       "    </tr>\n",
       "    <tr>\n",
       "      <th>2</th>\n",
       "      <td>2019-05-20</td>\n",
       "      <td>7998.290039</td>\n",
       "      <td>8102.319824</td>\n",
       "      <td>7807.770020</td>\n",
       "      <td>7947.930176</td>\n",
       "      <td>7947.930176</td>\n",
       "      <td>357803946</td>\n",
       "    </tr>\n",
       "    <tr>\n",
       "      <th>3</th>\n",
       "      <td>2019-05-21</td>\n",
       "      <td>7947.930176</td>\n",
       "      <td>8033.759766</td>\n",
       "      <td>7533.660156</td>\n",
       "      <td>7626.890137</td>\n",
       "      <td>7626.890137</td>\n",
       "      <td>424501866</td>\n",
       "    </tr>\n",
       "    <tr>\n",
       "      <th>4</th>\n",
       "      <td>2019-05-22</td>\n",
       "      <td>7626.890137</td>\n",
       "      <td>7971.259766</td>\n",
       "      <td>7478.740234</td>\n",
       "      <td>7876.500000</td>\n",
       "      <td>7876.500000</td>\n",
       "      <td>386766321</td>\n",
       "    </tr>\n",
       "    <tr>\n",
       "      <th>5</th>\n",
       "      <td>2019-05-23</td>\n",
       "      <td>7876.500000</td>\n",
       "      <td>8165.450195</td>\n",
       "      <td>7801.569824</td>\n",
       "      <td>7996.399902</td>\n",
       "      <td>7996.399902</td>\n",
       "      <td>413162746</td>\n",
       "    </tr>\n",
       "    <tr>\n",
       "      <th>6</th>\n",
       "      <td>2019-05-24</td>\n",
       "      <td>7996.399902</td>\n",
       "      <td>8140.819824</td>\n",
       "      <td>7948.680176</td>\n",
       "      <td>8059.129883</td>\n",
       "      <td>8059.129883</td>\n",
       "      <td>179206342</td>\n",
       "    </tr>\n",
       "    <tr>\n",
       "      <th>7</th>\n",
       "      <td>2019-05-25</td>\n",
       "      <td>8059.129883</td>\n",
       "      <td>8779.000000</td>\n",
       "      <td>7894.529785</td>\n",
       "      <td>8726.230469</td>\n",
       "      <td>8726.230469</td>\n",
       "      <td>483663699</td>\n",
       "    </tr>\n",
       "    <tr>\n",
       "      <th>8</th>\n",
       "      <td>2019-05-26</td>\n",
       "      <td>8726.230469</td>\n",
       "      <td>8931.530273</td>\n",
       "      <td>8668.459961</td>\n",
       "      <td>8785.169922</td>\n",
       "      <td>8785.169922</td>\n",
       "      <td>507164714</td>\n",
       "    </tr>\n",
       "    <tr>\n",
       "      <th>9</th>\n",
       "      <td>2019-05-27</td>\n",
       "      <td>8785.169922</td>\n",
       "      <td>8818.709961</td>\n",
       "      <td>8562.200195</td>\n",
       "      <td>8718.849609</td>\n",
       "      <td>8718.849609</td>\n",
       "      <td>360752199</td>\n",
       "    </tr>\n",
       "    <tr>\n",
       "      <th>10</th>\n",
       "      <td>2019-05-28</td>\n",
       "      <td>8718.849609</td>\n",
       "      <td>8760.480469</td>\n",
       "      <td>8444.099609</td>\n",
       "      <td>8664.559570</td>\n",
       "      <td>8664.559570</td>\n",
       "      <td>380343928</td>\n",
       "    </tr>\n",
       "    <tr>\n",
       "      <th>11</th>\n",
       "      <td>2019-05-29</td>\n",
       "      <td>8664.559570</td>\n",
       "      <td>9065.889648</td>\n",
       "      <td>8027.209961</td>\n",
       "      <td>8276.250000</td>\n",
       "      <td>8276.250000</td>\n",
       "      <td>815525590</td>\n",
       "    </tr>\n",
       "    <tr>\n",
       "      <th>12</th>\n",
       "      <td>2019-05-30</td>\n",
       "      <td>8276.250000</td>\n",
       "      <td>8570.780273</td>\n",
       "      <td>8116.000000</td>\n",
       "      <td>8560.080078</td>\n",
       "      <td>8560.080078</td>\n",
       "      <td>500141087</td>\n",
       "    </tr>\n",
       "    <tr>\n",
       "      <th>13</th>\n",
       "      <td>2019-05-31</td>\n",
       "      <td>8550.629883</td>\n",
       "      <td>8576.339844</td>\n",
       "      <td>8459.650391</td>\n",
       "      <td>8504.980469</td>\n",
       "      <td>8504.980469</td>\n",
       "      <td>69915456</td>\n",
       "    </tr>\n",
       "  </tbody>\n",
       "</table>\n",
       "</div>"
      ],
      "text/plain": [
       "          Date         Open         High          Low        Close  \\\n",
       "0   2019-05-18  7266.080078  8281.660156  7257.259766  8193.139648   \n",
       "1   2019-05-19  8193.139648  8193.139648  7591.850098  7998.290039   \n",
       "2   2019-05-20  7998.290039  8102.319824  7807.770020  7947.930176   \n",
       "3   2019-05-21  7947.930176  8033.759766  7533.660156  7626.890137   \n",
       "4   2019-05-22  7626.890137  7971.259766  7478.740234  7876.500000   \n",
       "5   2019-05-23  7876.500000  8165.450195  7801.569824  7996.399902   \n",
       "6   2019-05-24  7996.399902  8140.819824  7948.680176  8059.129883   \n",
       "7   2019-05-25  8059.129883  8779.000000  7894.529785  8726.230469   \n",
       "8   2019-05-26  8726.230469  8931.530273  8668.459961  8785.169922   \n",
       "9   2019-05-27  8785.169922  8818.709961  8562.200195  8718.849609   \n",
       "10  2019-05-28  8718.849609  8760.480469  8444.099609  8664.559570   \n",
       "11  2019-05-29  8664.559570  9065.889648  8027.209961  8276.250000   \n",
       "12  2019-05-30  8276.250000  8570.780273  8116.000000  8560.080078   \n",
       "13  2019-05-31  8550.629883  8576.339844  8459.650391  8504.980469   \n",
       "\n",
       "      Adj Close     Volume  \n",
       "0   8193.139648  723011166  \n",
       "1   7998.290039  637617163  \n",
       "2   7947.930176  357803946  \n",
       "3   7626.890137  424501866  \n",
       "4   7876.500000  386766321  \n",
       "5   7996.399902  413162746  \n",
       "6   8059.129883  179206342  \n",
       "7   8726.230469  483663699  \n",
       "8   8785.169922  507164714  \n",
       "9   8718.849609  360752199  \n",
       "10  8664.559570  380343928  \n",
       "11  8276.250000  815525590  \n",
       "12  8560.080078  500141087  \n",
       "13  8504.980469   69915456  "
      ]
     },
     "execution_count": 24,
     "metadata": {},
     "output_type": "execute_result"
    }
   ],
   "source": [
    "# using real data\n",
    "df = pd.read_csv('data/time_series.csv')\n",
    "df"
   ]
  },
  {
   "cell_type": "code",
   "execution_count": 32,
   "id": "67f1c1b5",
   "metadata": {},
   "outputs": [],
   "source": [
    "# split dataframe to list\n",
    "\n",
    "# convert\n",
    "df['Date'] = pd.to_datetime(df['Date'])\n",
    "\n",
    "#sort\n",
    "df.sort_values('Date', inplace=True)\n",
    "\n",
    "price_date = df['Date']\n",
    "price_close = df['Close']"
   ]
  },
  {
   "cell_type": "code",
   "execution_count": 34,
   "id": "798d9142",
   "metadata": {},
   "outputs": [
    {
     "data": {
      "image/png": "[encoded data removed]",
      "text/plain": [
       "<Figure size 432x288 with 1 Axes>"
      ]
     },
     "metadata": {
      "needs_background": "light"
     },
     "output_type": "display_data"
    }
   ],
   "source": [
    "# create plot date\n",
    "plt.plot_date(price_date, price_close, linestyle='solid')\n",
    "\n",
    "plt.gcf().autofmt_xdate()\n",
    "\n",
    "plt.title('Bitcoin Prices')\n",
    "plt.xlabel('Date')\n",
    "plt.ylabel('Closing Prices')\n",
    "\n",
    "plt.tight_layout()\n",
    "\n",
    "# save fig\n",
    "plt.savefig('fig/timeseries-plot.png')\n",
    "\n",
    "plt.show()"
   ]
  }
 ],
 "metadata": {
  "kernelspec": {
   "display_name": "Python 3 (ipykernel)",
   "language": "python",
   "name": "python3"
  },
  "language_info": {
   "codemirror_mode": {
    "name": "ipython",
    "version": 3
   },
   "file_extension": ".py",
   "mimetype": "text/x-python",
   "name": "python",
   "nbconvert_exporter": "python",
   "pygments_lexer": "ipython3",
   "version": "3.10.6"
  }
 },
 "nbformat": 4,
 "nbformat_minor": 5
}
